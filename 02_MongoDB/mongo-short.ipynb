{
 "cells": [
  {
   "cell_type": "markdown",
   "metadata": {},
   "source": [
    "## Establishing a MongoDB"
   ]
  },
  {
   "cell_type": "code",
   "execution_count": 1,
   "metadata": {},
   "outputs": [],
   "source": [
    "# Import the Python MongoDB driver\n",
    "import pymongo"
   ]
  },
  {
   "cell_type": "code",
   "execution_count": 2,
   "metadata": {},
   "outputs": [],
   "source": [
    "# Make a MongoDB client that connects to the default MongoDB URI (Unique Resource Identifier)\n",
    "test_client = pymongo.MongoClient('mongodb://localhost:27017/')"
   ]
  },
  {
   "cell_type": "code",
   "execution_count": 3,
   "metadata": {},
   "outputs": [],
   "source": [
    "# Make a new DB \n",
    "db_name='test_db'"
   ]
  },
  {
   "cell_type": "code",
   "execution_count": 4,
   "metadata": {},
   "outputs": [],
   "source": [
    "# Attach the client to the DB\n",
    "test_db = test_client[db_name]\n",
    "# test_db is a client that operates on the DB, we use this to make chages to the DB"
   ]
  },
  {
   "cell_type": "code",
   "execution_count": 5,
   "metadata": {},
   "outputs": [],
   "source": [
    "# Make a new collection that resides in the DB\n",
    "collection_name='test_collection'\n",
    "test_col = test_db[collection_name]"
   ]
  },
  {
   "cell_type": "code",
   "execution_count": 6,
   "metadata": {},
   "outputs": [],
   "source": [
    "# Let's make some information to be stored. Just one record should do fine.\n",
    "test_input_01 = { \"surname\": \"Bonaparte\", \"address\": \"Cafe Theatre\",\n",
    "             \"city\": \"Paris\" }"
   ]
  },
  {
   "cell_type": "markdown",
   "metadata": {},
   "source": [
    "## CRUD Operations"
   ]
  },
  {
   "cell_type": "markdown",
   "metadata": {},
   "source": [
    "### Creation"
   ]
  },
  {
   "cell_type": "code",
   "execution_count": 7,
   "metadata": {},
   "outputs": [],
   "source": [
    "# Add the record to the collection\n",
    "inserted_01 = test_col.insert_one(test_input_01)"
   ]
  },
  {
   "cell_type": "code",
   "execution_count": 8,
   "metadata": {},
   "outputs": [
    {
     "name": "stdout",
     "output_type": "stream",
     "text": [
      "InsertOneResult(ObjectId('66f3aac3132706f4ecd3033f'), acknowledged=True)\n",
      "<class 'pymongo.results.InsertOneResult'>\n"
     ]
    }
   ],
   "source": [
    "print(inserted_01)\n",
    "print(type(inserted_01))"
   ]
  },
  {
   "cell_type": "code",
   "execution_count": 9,
   "metadata": {},
   "outputs": [
    {
     "name": "stdout",
     "output_type": "stream",
     "text": [
      "66f3aac3132706f4ecd3033f\n"
     ]
    }
   ],
   "source": [
    "print(inserted_01.inserted_id)"
   ]
  },
  {
   "cell_type": "code",
   "execution_count": 10,
   "metadata": {},
   "outputs": [],
   "source": [
    "inserted_02 = test_col.insert_many([{'surname': 'Auditore', 'address': '123, Parkway Drive', 'city': 'Florence'}, \n",
    "{'surname': 'Davenport', 'address': 'Davenport Homestead', 'city': 'New York'}])"
   ]
  },
  {
   "cell_type": "code",
   "execution_count": 11,
   "metadata": {},
   "outputs": [
    {
     "name": "stdout",
     "output_type": "stream",
     "text": [
      "InsertManyResult([ObjectId('66f3aade132706f4ecd30340'), ObjectId('66f3aade132706f4ecd30341')], acknowledged=True)\n",
      "<class 'pymongo.results.InsertManyResult'>\n"
     ]
    }
   ],
   "source": [
    "print(inserted_02)\n",
    "print(type(inserted_02))"
   ]
  },
  {
   "cell_type": "code",
   "execution_count": 12,
   "metadata": {},
   "outputs": [
    {
     "name": "stdout",
     "output_type": "stream",
     "text": [
      "[ObjectId('66f3aade132706f4ecd30340'), ObjectId('66f3aade132706f4ecd30341')]\n"
     ]
    }
   ],
   "source": [
    "print(inserted_02.inserted_ids)"
   ]
  },
  {
   "cell_type": "code",
   "execution_count": 13,
   "metadata": {},
   "outputs": [],
   "source": [
    "import pandas as pd"
   ]
  },
  {
   "cell_type": "code",
   "execution_count": 14,
   "metadata": {},
   "outputs": [],
   "source": [
    "df = pd.read_csv(\"historical_characters.csv\")"
   ]
  },
  {
   "cell_type": "code",
   "execution_count": 15,
   "metadata": {},
   "outputs": [
    {
     "data": {
      "text/html": [
       "<div>\n",
       "<style scoped>\n",
       "    .dataframe tbody tr th:only-of-type {\n",
       "        vertical-align: middle;\n",
       "    }\n",
       "\n",
       "    .dataframe tbody tr th {\n",
       "        vertical-align: top;\n",
       "    }\n",
       "\n",
       "    .dataframe thead th {\n",
       "        text-align: right;\n",
       "    }\n",
       "</style>\n",
       "<table border=\"1\" class=\"dataframe\">\n",
       "  <thead>\n",
       "    <tr style=\"text-align: right;\">\n",
       "      <th></th>\n",
       "      <th>surname</th>\n",
       "      <th>address</th>\n",
       "      <th>city</th>\n",
       "    </tr>\n",
       "  </thead>\n",
       "  <tbody>\n",
       "    <tr>\n",
       "      <th>0</th>\n",
       "      <td>Alexander III of Macedon</td>\n",
       "      <td>Macedonia</td>\n",
       "      <td>Megalopolis</td>\n",
       "    </tr>\n",
       "    <tr>\n",
       "      <th>1</th>\n",
       "      <td>Cyrus the Great</td>\n",
       "      <td>Persia</td>\n",
       "      <td>Gushtaspa</td>\n",
       "    </tr>\n",
       "    <tr>\n",
       "      <th>2</th>\n",
       "      <td>Darius I of Persia</td>\n",
       "      <td>Persia</td>\n",
       "      <td>Susa</td>\n",
       "    </tr>\n",
       "    <tr>\n",
       "      <th>3</th>\n",
       "      <td>Genghis Khan</td>\n",
       "      <td>Mongolia</td>\n",
       "      <td>Orda Khanate</td>\n",
       "    </tr>\n",
       "    <tr>\n",
       "      <th>4</th>\n",
       "      <td>Amalia of Bavaria</td>\n",
       "      <td>Bavaria</td>\n",
       "      <td>Regensburg</td>\n",
       "    </tr>\n",
       "    <tr>\n",
       "      <th>5</th>\n",
       "      <td>Pope Julius II</td>\n",
       "      <td>Vatican City</td>\n",
       "      <td>Rome</td>\n",
       "    </tr>\n",
       "    <tr>\n",
       "      <th>6</th>\n",
       "      <td>Charles Martel</td>\n",
       "      <td>Francia</td>\n",
       "      <td>Tours</td>\n",
       "    </tr>\n",
       "    <tr>\n",
       "      <th>7</th>\n",
       "      <td>Ferdinand III of Castile</td>\n",
       "      <td>Castile</td>\n",
       "      <td>Segovia</td>\n",
       "    </tr>\n",
       "    <tr>\n",
       "      <th>8</th>\n",
       "      <td>Jiang Zhiye</td>\n",
       "      <td>China</td>\n",
       "      <td>Hangzhou</td>\n",
       "    </tr>\n",
       "    <tr>\n",
       "      <th>9</th>\n",
       "      <td>Abbas I of Persia</td>\n",
       "      <td>Persia</td>\n",
       "      <td>Tehran</td>\n",
       "    </tr>\n",
       "    <tr>\n",
       "      <th>10</th>\n",
       "      <td>Henry V of England</td>\n",
       "      <td>England</td>\n",
       "      <td>London</td>\n",
       "    </tr>\n",
       "    <tr>\n",
       "      <th>11</th>\n",
       "      <td>Francesco Sforza</td>\n",
       "      <td>Italy</td>\n",
       "      <td>Milan</td>\n",
       "    </tr>\n",
       "    <tr>\n",
       "      <th>12</th>\n",
       "      <td>Benedict XIII of Avignon</td>\n",
       "      <td>France</td>\n",
       "      <td>Avignon</td>\n",
       "    </tr>\n",
       "    <tr>\n",
       "      <th>13</th>\n",
       "      <td>El Cid</td>\n",
       "      <td>Spain</td>\n",
       "      <td>Almería</td>\n",
       "    </tr>\n",
       "    <tr>\n",
       "      <th>14</th>\n",
       "      <td>Tamerlane</td>\n",
       "      <td>Mongolia</td>\n",
       "      <td>Bukhara</td>\n",
       "    </tr>\n",
       "    <tr>\n",
       "      <th>15</th>\n",
       "      <td>Kublai Khan</td>\n",
       "      <td>China</td>\n",
       "      <td>Beijing</td>\n",
       "    </tr>\n",
       "    <tr>\n",
       "      <th>16</th>\n",
       "      <td>Sigismund of Hungary</td>\n",
       "      <td>Hungary</td>\n",
       "      <td>Pressburg</td>\n",
       "    </tr>\n",
       "    <tr>\n",
       "      <th>17</th>\n",
       "      <td>Juan II of Aragon</td>\n",
       "      <td>Aragon</td>\n",
       "      <td>Tarazona</td>\n",
       "    </tr>\n",
       "    <tr>\n",
       "      <th>18</th>\n",
       "      <td>René I of Anjou</td>\n",
       "      <td>France</td>\n",
       "      <td>Angers</td>\n",
       "    </tr>\n",
       "  </tbody>\n",
       "</table>\n",
       "</div>"
      ],
      "text/plain": [
       "                     surname       address          city\n",
       "0   Alexander III of Macedon     Macedonia   Megalopolis\n",
       "1            Cyrus the Great        Persia     Gushtaspa\n",
       "2         Darius I of Persia        Persia          Susa\n",
       "3               Genghis Khan      Mongolia  Orda Khanate\n",
       "4          Amalia of Bavaria       Bavaria    Regensburg\n",
       "5             Pope Julius II  Vatican City          Rome\n",
       "6             Charles Martel       Francia         Tours\n",
       "7   Ferdinand III of Castile       Castile       Segovia\n",
       "8                Jiang Zhiye         China      Hangzhou\n",
       "9          Abbas I of Persia        Persia        Tehran\n",
       "10        Henry V of England       England        London\n",
       "11          Francesco Sforza         Italy         Milan\n",
       "12  Benedict XIII of Avignon        France       Avignon\n",
       "13                    El Cid         Spain       Almería\n",
       "14                 Tamerlane      Mongolia       Bukhara\n",
       "15               Kublai Khan         China       Beijing\n",
       "16      Sigismund of Hungary       Hungary     Pressburg\n",
       "17         Juan II of Aragon        Aragon      Tarazona\n",
       "18           René I of Anjou        France        Angers"
      ]
     },
     "execution_count": 15,
     "metadata": {},
     "output_type": "execute_result"
    }
   ],
   "source": [
    "df"
   ]
  },
  {
   "cell_type": "code",
   "execution_count": 16,
   "metadata": {},
   "outputs": [],
   "source": [
    "test_dict = df.T.to_dict()"
   ]
  },
  {
   "cell_type": "code",
   "execution_count": 17,
   "metadata": {},
   "outputs": [
    {
     "name": "stdout",
     "output_type": "stream",
     "text": [
      "{0: {'surname': 'Alexander III of Macedon', 'address': 'Macedonia', 'city': 'Megalopolis'}, 1: {'surname': 'Cyrus the Great', 'address': 'Persia', 'city': 'Gushtaspa'}, 2: {'surname': 'Darius I of Persia', 'address': 'Persia', 'city': 'Susa'}, 3: {'surname': 'Genghis Khan', 'address': 'Mongolia', 'city': 'Orda Khanate'}, 4: {'surname': 'Amalia of Bavaria', 'address': 'Bavaria', 'city': 'Regensburg'}, 5: {'surname': 'Pope Julius II', 'address': 'Vatican City', 'city': 'Rome'}, 6: {'surname': 'Charles Martel', 'address': 'Francia', 'city': 'Tours'}, 7: {'surname': 'Ferdinand III of Castile', 'address': 'Castile', 'city': 'Segovia'}, 8: {'surname': 'Jiang Zhiye', 'address': 'China', 'city': 'Hangzhou'}, 9: {'surname': 'Abbas I of Persia', 'address': 'Persia', 'city': 'Tehran'}, 10: {'surname': 'Henry V of England', 'address': 'England', 'city': 'London'}, 11: {'surname': 'Francesco Sforza', 'address': 'Italy', 'city': 'Milan'}, 12: {'surname': 'Benedict XIII of Avignon', 'address': 'France', 'city': 'Avignon'}, 13: {'surname': 'El Cid', 'address': 'Spain', 'city': 'Almería'}, 14: {'surname': 'Tamerlane', 'address': 'Mongolia', 'city': 'Bukhara'}, 15: {'surname': 'Kublai Khan', 'address': 'China', 'city': 'Beijing'}, 16: {'surname': 'Sigismund of Hungary', 'address': 'Hungary', 'city': 'Pressburg'}, 17: {'surname': 'Juan II of Aragon', 'address': 'Aragon', 'city': 'Tarazona'}, 18: {'surname': 'René I of Anjou', 'address': 'France', 'city': 'Angers'}}\n"
     ]
    }
   ],
   "source": [
    "print(test_dict)"
   ]
  },
  {
   "cell_type": "code",
   "execution_count": 18,
   "metadata": {},
   "outputs": [
    {
     "ename": "TypeError",
     "evalue": "documents must be a non-empty list",
     "output_type": "error",
     "traceback": [
      "\u001b[0;31m---------------------------------------------------------------------------\u001b[0m",
      "\u001b[0;31mTypeError\u001b[0m                                 Traceback (most recent call last)",
      "Cell \u001b[0;32mIn[18], line 1\u001b[0m\n\u001b[0;32m----> 1\u001b[0m inserted_03 \u001b[38;5;241m=\u001b[39m \u001b[43mtest_col\u001b[49m\u001b[38;5;241;43m.\u001b[39;49m\u001b[43minsert_many\u001b[49m\u001b[43m(\u001b[49m\u001b[43mtest_dict\u001b[49m\u001b[43m)\u001b[49m\n",
      "File \u001b[0;32m/opt/miniconda3/envs/fast-mongo/lib/python3.11/site-packages/pymongo/_csot.py:120\u001b[0m, in \u001b[0;36mapply.<locals>.csot_wrapper\u001b[0;34m(self, *args, **kwargs)\u001b[0m\n\u001b[1;32m    118\u001b[0m         \u001b[38;5;28;01mwith\u001b[39;00m _TimeoutContext(timeout):\n\u001b[1;32m    119\u001b[0m             \u001b[38;5;28;01mreturn\u001b[39;00m func(\u001b[38;5;28mself\u001b[39m, \u001b[38;5;241m*\u001b[39margs, \u001b[38;5;241m*\u001b[39m\u001b[38;5;241m*\u001b[39mkwargs)\n\u001b[0;32m--> 120\u001b[0m \u001b[38;5;28;01mreturn\u001b[39;00m \u001b[43mfunc\u001b[49m\u001b[43m(\u001b[49m\u001b[38;5;28;43mself\u001b[39;49m\u001b[43m,\u001b[49m\u001b[43m \u001b[49m\u001b[38;5;241;43m*\u001b[39;49m\u001b[43margs\u001b[49m\u001b[43m,\u001b[49m\u001b[43m \u001b[49m\u001b[38;5;241;43m*\u001b[39;49m\u001b[38;5;241;43m*\u001b[39;49m\u001b[43mkwargs\u001b[49m\u001b[43m)\u001b[49m\n",
      "File \u001b[0;32m/opt/miniconda3/envs/fast-mongo/lib/python3.11/site-packages/pymongo/synchronous/collection.py:938\u001b[0m, in \u001b[0;36mCollection.insert_many\u001b[0;34m(self, documents, ordered, bypass_document_validation, session, comment)\u001b[0m\n\u001b[1;32m    891\u001b[0m \u001b[38;5;250m\u001b[39m\u001b[38;5;124;03m\"\"\"Insert an iterable of documents.\u001b[39;00m\n\u001b[1;32m    892\u001b[0m \n\u001b[1;32m    893\u001b[0m \u001b[38;5;124;03m  >>> db.test.count_documents({})\u001b[39;00m\n\u001b[0;32m   (...)\u001b[0m\n\u001b[1;32m    931\u001b[0m \u001b[38;5;124;03m.. versionadded:: 3.0\u001b[39;00m\n\u001b[1;32m    932\u001b[0m \u001b[38;5;124;03m\"\"\"\u001b[39;00m\n\u001b[1;32m    933\u001b[0m \u001b[38;5;28;01mif\u001b[39;00m (\n\u001b[1;32m    934\u001b[0m     \u001b[38;5;129;01mnot\u001b[39;00m \u001b[38;5;28misinstance\u001b[39m(documents, abc\u001b[38;5;241m.\u001b[39mIterable)\n\u001b[1;32m    935\u001b[0m     \u001b[38;5;129;01mor\u001b[39;00m \u001b[38;5;28misinstance\u001b[39m(documents, abc\u001b[38;5;241m.\u001b[39mMapping)\n\u001b[1;32m    936\u001b[0m     \u001b[38;5;129;01mor\u001b[39;00m \u001b[38;5;129;01mnot\u001b[39;00m documents\n\u001b[1;32m    937\u001b[0m ):\n\u001b[0;32m--> 938\u001b[0m     \u001b[38;5;28;01mraise\u001b[39;00m \u001b[38;5;167;01mTypeError\u001b[39;00m(\u001b[38;5;124m\"\u001b[39m\u001b[38;5;124mdocuments must be a non-empty list\u001b[39m\u001b[38;5;124m\"\u001b[39m)\n\u001b[1;32m    939\u001b[0m inserted_ids: \u001b[38;5;28mlist\u001b[39m[ObjectId] \u001b[38;5;241m=\u001b[39m []\n\u001b[1;32m    941\u001b[0m \u001b[38;5;28;01mdef\u001b[39;00m \u001b[38;5;21mgen\u001b[39m() \u001b[38;5;241m-\u001b[39m\u001b[38;5;241m>\u001b[39m Iterator[\u001b[38;5;28mtuple\u001b[39m[\u001b[38;5;28mint\u001b[39m, Mapping[\u001b[38;5;28mstr\u001b[39m, Any]]]:\n",
      "\u001b[0;31mTypeError\u001b[0m: documents must be a non-empty list"
     ]
    }
   ],
   "source": [
    "inserted_03 = test_col.insert_many(test_dict)"
   ]
  },
  {
   "cell_type": "code",
   "execution_count": 19,
   "metadata": {},
   "outputs": [],
   "source": [
    "import json"
   ]
  },
  {
   "cell_type": "code",
   "execution_count": 20,
   "metadata": {},
   "outputs": [],
   "source": [
    "test_records = json.loads(df.T.to_json()).values()"
   ]
  },
  {
   "cell_type": "code",
   "execution_count": 21,
   "metadata": {},
   "outputs": [
    {
     "name": "stdout",
     "output_type": "stream",
     "text": [
      "dict_values([{'surname': 'Alexander III of Macedon', 'address': 'Macedonia', 'city': 'Megalopolis'}, {'surname': 'Cyrus the Great', 'address': 'Persia', 'city': 'Gushtaspa'}, {'surname': 'Darius I of Persia', 'address': 'Persia', 'city': 'Susa'}, {'surname': 'Genghis Khan', 'address': 'Mongolia', 'city': 'Orda Khanate'}, {'surname': 'Amalia of Bavaria', 'address': 'Bavaria', 'city': 'Regensburg'}, {'surname': 'Pope Julius II', 'address': 'Vatican City', 'city': 'Rome'}, {'surname': 'Charles Martel', 'address': 'Francia', 'city': 'Tours'}, {'surname': 'Ferdinand III of Castile', 'address': 'Castile', 'city': 'Segovia'}, {'surname': 'Jiang Zhiye', 'address': 'China', 'city': 'Hangzhou'}, {'surname': 'Abbas I of Persia', 'address': 'Persia', 'city': 'Tehran'}, {'surname': 'Henry V of England', 'address': 'England', 'city': 'London'}, {'surname': 'Francesco Sforza', 'address': 'Italy', 'city': 'Milan'}, {'surname': 'Benedict XIII of Avignon', 'address': 'France', 'city': 'Avignon'}, {'surname': 'El Cid', 'address': 'Spain', 'city': 'Almería'}, {'surname': 'Tamerlane', 'address': 'Mongolia', 'city': 'Bukhara'}, {'surname': 'Kublai Khan', 'address': 'China', 'city': 'Beijing'}, {'surname': 'Sigismund of Hungary', 'address': 'Hungary', 'city': 'Pressburg'}, {'surname': 'Juan II of Aragon', 'address': 'Aragon', 'city': 'Tarazona'}, {'surname': 'René I of Anjou', 'address': 'France', 'city': 'Angers'}])\n"
     ]
    }
   ],
   "source": [
    "print(test_records)"
   ]
  },
  {
   "cell_type": "code",
   "execution_count": 22,
   "metadata": {},
   "outputs": [],
   "source": [
    "inserted_03 = test_col.insert_many(test_records)"
   ]
  },
  {
   "cell_type": "markdown",
   "metadata": {},
   "source": [
    "### Reading"
   ]
  },
  {
   "cell_type": "code",
   "execution_count": 24,
   "metadata": {},
   "outputs": [
    {
     "name": "stdout",
     "output_type": "stream",
     "text": [
      "None\n"
     ]
    }
   ],
   "source": [
    "# Find a document\n",
    "document = test_col.find_one({\"name\": \"John\"})\n",
    "print(document)"
   ]
  },
  {
   "cell_type": "code",
   "execution_count": 25,
   "metadata": {},
   "outputs": [
    {
     "name": "stdout",
     "output_type": "stream",
     "text": [
      "None\n"
     ]
    }
   ],
   "source": [
    "# Find a document\n",
    "document = test_col.find_one({\"surname\": \"John\"})\n",
    "print(document)"
   ]
  },
  {
   "cell_type": "code",
   "execution_count": 26,
   "metadata": {},
   "outputs": [
    {
     "name": "stdout",
     "output_type": "stream",
     "text": [
      "None\n"
     ]
    }
   ],
   "source": [
    "# Find a document\n",
    "document = test_col.find_one({\"surname\": \"Charles\"})\n",
    "print(document)"
   ]
  },
  {
   "cell_type": "code",
   "execution_count": 27,
   "metadata": {},
   "outputs": [
    {
     "name": "stdout",
     "output_type": "stream",
     "text": [
      "{'_id': ObjectId('66f3ab21132706f4ecd30348'), 'surname': 'Charles Martel', 'address': 'Francia', 'city': 'Tours'}\n"
     ]
    }
   ],
   "source": [
    "# Find a document\n",
    "document = test_col.find_one({\"surname\": \"Charles Martel\"})\n",
    "print(document)"
   ]
  },
  {
   "cell_type": "markdown",
   "metadata": {},
   "source": [
    "The output of `find_one` is a dictionary."
   ]
  },
  {
   "cell_type": "code",
   "execution_count": 48,
   "metadata": {},
   "outputs": [
    {
     "name": "stdout",
     "output_type": "stream",
     "text": [
      "<pymongo.synchronous.cursor.Cursor object at 0x11ad09850>\n"
     ]
    }
   ],
   "source": [
    "# Find a document\n",
    "document = test_col.find({\"surname\": \"Charles Martel\"})\n",
    "print(document)"
   ]
  },
  {
   "cell_type": "markdown",
   "metadata": {},
   "source": [
    "`find` returns a synchronous cursor object. The values in it cannot be directly printed."
   ]
  },
  {
   "cell_type": "code",
   "execution_count": 49,
   "metadata": {},
   "outputs": [
    {
     "name": "stdout",
     "output_type": "stream",
     "text": [
      "[{'_id': ObjectId('66f3ab21132706f4ecd30348'), 'surname': 'Charles Martel', 'address': 'Francia', 'city': 'Tours', 'age': ''}]\n"
     ]
    }
   ],
   "source": [
    "print(list(document))"
   ]
  },
  {
   "cell_type": "code",
   "execution_count": 35,
   "metadata": {},
   "outputs": [
    {
     "name": "stdout",
     "output_type": "stream",
     "text": [
      "{'_id': ObjectId('66f3ab21132706f4ecd30348'), 'surname': 'Charles Martel', 'address': 'Francia', 'city': 'Tours'}\n"
     ]
    }
   ],
   "source": [
    "for doc in document:\n",
    "    print(doc)"
   ]
  },
  {
   "cell_type": "code",
   "execution_count": 46,
   "metadata": {},
   "outputs": [
    {
     "name": "stdout",
     "output_type": "stream",
     "text": [
      "<pymongo.synchronous.cursor.Cursor object at 0x11a82f5d0>\n"
     ]
    }
   ],
   "source": [
    "# Find a document\n",
    "document = test_col.find({\"address\": \"Persia\"})\n",
    "print(document)"
   ]
  },
  {
   "cell_type": "code",
   "execution_count": 47,
   "metadata": {},
   "outputs": [
    {
     "name": "stdout",
     "output_type": "stream",
     "text": [
      "[{'_id': ObjectId('66f3ab21132706f4ecd30343'), 'surname': 'Cyrus the Great', 'address': 'Persia', 'city': 'Gushtaspa', 'age': ''}, {'_id': ObjectId('66f3ab21132706f4ecd30344'), 'surname': 'Darius I of Persia', 'address': 'Persia', 'city': 'Susa', 'age': ''}, {'_id': ObjectId('66f3ab21132706f4ecd3034b'), 'surname': 'Abbas I of Persia', 'address': 'Persia', 'city': 'Tehran', 'age': ''}]\n"
     ]
    }
   ],
   "source": [
    "print(list(document))"
   ]
  },
  {
   "cell_type": "code",
   "execution_count": 33,
   "metadata": {},
   "outputs": [
    {
     "name": "stdout",
     "output_type": "stream",
     "text": [
      "{'_id': ObjectId('66f3ab21132706f4ecd30343'), 'surname': 'Cyrus the Great', 'address': 'Persia', 'city': 'Gushtaspa'}\n",
      "{'_id': ObjectId('66f3ab21132706f4ecd30344'), 'surname': 'Darius I of Persia', 'address': 'Persia', 'city': 'Susa'}\n",
      "{'_id': ObjectId('66f3ab21132706f4ecd3034b'), 'surname': 'Abbas I of Persia', 'address': 'Persia', 'city': 'Tehran'}\n"
     ]
    }
   ],
   "source": [
    "for doc in document:\n",
    "    print(doc)"
   ]
  },
  {
   "cell_type": "code",
   "execution_count": 45,
   "metadata": {},
   "outputs": [
    {
     "name": "stdout",
     "output_type": "stream",
     "text": [
      "[{'_id': ObjectId('66f3aac3132706f4ecd3033f'), 'surname': 'Bonaparte', 'address': 'Cafe Theatre', 'city': 'Paris', 'age': ''}, {'_id': ObjectId('66f3aade132706f4ecd30340'), 'surname': 'Auditore', 'address': '123, Parkway Drive', 'city': 'Florence', 'age': ''}, {'_id': ObjectId('66f3ab21132706f4ecd30342'), 'surname': 'Alexander III of Macedon', 'address': 'Macedonia', 'city': 'Megalopolis', 'age': ''}, {'_id': ObjectId('66f3ab21132706f4ecd30343'), 'surname': 'Cyrus the Great', 'address': 'Persia', 'city': 'Gushtaspa', 'age': ''}, {'_id': ObjectId('66f3ab21132706f4ecd30344'), 'surname': 'Darius I of Persia', 'address': 'Persia', 'city': 'Susa', 'age': ''}, {'_id': ObjectId('66f3ab21132706f4ecd30345'), 'surname': 'Genghis Khan', 'address': 'Mongolia', 'city': 'Orda Khanate', 'age': ''}, {'_id': ObjectId('66f3ab21132706f4ecd30346'), 'surname': 'Amalia of Bavaria', 'address': 'Bavaria', 'city': 'Regensburg', 'age': ''}, {'_id': ObjectId('66f3ab21132706f4ecd30347'), 'surname': 'Pope Julius II', 'address': 'Vatican City', 'city': 'Rome', 'age': ''}, {'_id': ObjectId('66f3ab21132706f4ecd30348'), 'surname': 'Charles Martel', 'address': 'Francia', 'city': 'Tours', 'age': ''}, {'_id': ObjectId('66f3ab21132706f4ecd30349'), 'surname': 'Ferdinand III of Castile', 'address': 'Castile', 'city': 'Segovia', 'age': ''}, {'_id': ObjectId('66f3ab21132706f4ecd3034a'), 'surname': 'Jiang Zhiye', 'address': 'China', 'city': 'Hangzhou', 'age': ''}, {'_id': ObjectId('66f3ab21132706f4ecd3034b'), 'surname': 'Abbas I of Persia', 'address': 'Persia', 'city': 'Tehran', 'age': ''}, {'_id': ObjectId('66f3ab21132706f4ecd3034c'), 'surname': 'Henry V of England', 'address': 'England', 'city': 'London', 'age': ''}, {'_id': ObjectId('66f3ab21132706f4ecd3034d'), 'surname': 'Francesco Sforza', 'address': 'Italy', 'city': 'Milan', 'age': ''}, {'_id': ObjectId('66f3ab21132706f4ecd3034e'), 'surname': 'Benedict XIII of Avignon', 'address': 'France', 'city': 'Avignon', 'age': ''}, {'_id': ObjectId('66f3ab21132706f4ecd3034f'), 'surname': 'McCormac', 'address': \"Pirate's Bay\", 'city': 'Haiti'}, {'_id': ObjectId('66f3ab21132706f4ecd30350'), 'surname': 'Tamerlane', 'address': 'Mongolia', 'city': 'Bukhara', 'age': ''}, {'_id': ObjectId('66f3ab21132706f4ecd30351'), 'surname': 'Kublai Khan', 'address': 'China', 'city': 'Beijing', 'age': ''}, {'_id': ObjectId('66f3ab21132706f4ecd30352'), 'surname': 'Sigismund of Hungary', 'address': 'Hungary', 'city': 'Pressburg', 'age': ''}, {'_id': ObjectId('66f3ab21132706f4ecd30353'), 'surname': 'Juan II of Aragon', 'address': 'Aragon', 'city': 'Tarazona', 'age': ''}, {'_id': ObjectId('66f3ab21132706f4ecd30354'), 'surname': 'René I of Anjou', 'address': 'France', 'city': 'Angers', 'age': ''}]\n"
     ]
    }
   ],
   "source": [
    "# Find all documents in the collection\n",
    "cursor = test_col.find()\n",
    "print(list(cursor))"
   ]
  },
  {
   "cell_type": "code",
   "execution_count": 54,
   "metadata": {},
   "outputs": [
    {
     "name": "stdout",
     "output_type": "stream",
     "text": [
      "[{'_id': ObjectId('66f3ab21132706f4ecd3034a'), 'surname': 'Jiang Zhiye', 'address': 'China', 'city': 'Hangzhou', 'age': ''}, {'_id': ObjectId('66f3ab21132706f4ecd30351'), 'surname': 'Kublai Khan', 'address': 'China', 'city': 'Beijing', 'age': ''}]\n"
     ]
    }
   ],
   "source": [
    "# Filter documents by a specific field\n",
    "filtered_documents = test_col.find({\"address\": \"China\"})\n",
    "print(list(filtered_documents))"
   ]
  },
  {
   "cell_type": "code",
   "execution_count": 55,
   "metadata": {},
   "outputs": [
    {
     "name": "stdout",
     "output_type": "stream",
     "text": [
      "[{'_id': ObjectId('66f3ab21132706f4ecd3034a'), 'surname': 'Jiang Zhiye', 'address': 'China', 'city': 'Hangzhou', 'age': ''}, {'_id': ObjectId('66f3ab21132706f4ecd30351'), 'surname': 'Kublai Khan', 'address': 'China', 'city': 'Beijing', 'age': ''}]\n"
     ]
    }
   ],
   "source": [
    "# Filter documents by a specific field\n",
    "filtered_documents = test_col.find({\"address\": {\"$in\":[\"China\"]}})\n",
    "print(list(filtered_documents))"
   ]
  },
  {
   "cell_type": "markdown",
   "metadata": {},
   "source": [
    "### Updation"
   ]
  },
  {
   "cell_type": "code",
   "execution_count": 37,
   "metadata": {},
   "outputs": [
    {
     "data": {
      "text/plain": [
       "UpdateResult({'n': 1, 'nModified': 1, 'ok': 1.0, 'updatedExisting': True}, acknowledged=True)"
      ]
     },
     "execution_count": 37,
     "metadata": {},
     "output_type": "execute_result"
    }
   ],
   "source": [
    "# Update a document\n",
    "updated_document = {\"surname\": \"McCormac\", \"address\": \"Pirate's Bay\", \"city\": \"Haiti\"}\n",
    "test_col.replace_one({\"surname\": \"Davenport\"}, updated_document)"
   ]
  },
  {
   "cell_type": "code",
   "execution_count": 43,
   "metadata": {},
   "outputs": [
    {
     "data": {
      "text/plain": [
       "{'_id': ObjectId('66f3ab21132706f4ecd3034f'),\n",
       " 'surname': 'El Cid',\n",
       " 'address': 'Spain',\n",
       " 'city': 'Almería',\n",
       " 'age': ''}"
      ]
     },
     "execution_count": 43,
     "metadata": {},
     "output_type": "execute_result"
    }
   ],
   "source": [
    "test_col.find_one_and_replace({\"surname\": \"El Cid\"}, updated_document)"
   ]
  },
  {
   "cell_type": "markdown",
   "metadata": {},
   "source": [
    "### Deletion"
   ]
  },
  {
   "cell_type": "code",
   "execution_count": 44,
   "metadata": {},
   "outputs": [
    {
     "data": {
      "text/plain": [
       "DeleteResult({'n': 1, 'ok': 1.0}, acknowledged=True)"
      ]
     },
     "execution_count": 44,
     "metadata": {},
     "output_type": "execute_result"
    }
   ],
   "source": [
    "# Delete a document\n",
    "test_col.delete_one({\"surname\": \"McCormac\"})"
   ]
  }
 ],
 "metadata": {
  "kernelspec": {
   "display_name": "fast-mongo",
   "language": "python",
   "name": "python3"
  },
  "language_info": {
   "codemirror_mode": {
    "name": "ipython",
    "version": 3
   },
   "file_extension": ".py",
   "mimetype": "text/x-python",
   "name": "python",
   "nbconvert_exporter": "python",
   "pygments_lexer": "ipython3",
   "version": "3.11.9"
  }
 },
 "nbformat": 4,
 "nbformat_minor": 2
}
