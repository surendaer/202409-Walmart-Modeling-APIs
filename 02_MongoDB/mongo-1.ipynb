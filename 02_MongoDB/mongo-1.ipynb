{
 "cells": [
  {
   "cell_type": "code",
   "execution_count": 1,
   "metadata": {},
   "outputs": [],
   "source": [
    "import pymongo\n",
    "db_name='players'\n",
    "test_client = pymongo.MongoClient('mongodb://localhost:27017/')\n",
    "test_db = test_client[db_name]"
   ]
  },
  {
   "cell_type": "code",
   "execution_count": 3,
   "metadata": {},
   "outputs": [
    {
     "name": "stdout",
     "output_type": "stream",
     "text": [
      "players ← database exists\n"
     ]
    }
   ],
   "source": [
    "def check_for_db(test_client,db_name):\n",
    "    dblist = test_client.list_database_names()\n",
    "    if db_name in dblist:\n",
    "        print(db_name + ' <-- database exists')\n",
    "    else:\n",
    "        print(db_name + ' <-- database does NOT exists')\n",
    "        \n",
    "check_for_db(test_client,db_name) # check if database exists or not"
   ]
  },
  {
   "cell_type": "code",
   "execution_count": 4,
   "metadata": {},
   "outputs": [],
   "source": [
    "# make collection\n",
    "col_name='coach'\n",
    "test_col = test_db[col_name]"
   ]
  },
  {
   "cell_type": "code",
   "execution_count": 5,
   "metadata": {},
   "outputs": [
    {
     "name": "stdout",
     "output_type": "stream",
     "text": [
      "coach <-- collection exists\n"
     ]
    }
   ],
   "source": [
    "def check_for_col(test_db,coll_name):\n",
    "    collist = test_db.list_collection_names()\n",
    "    if col_name in collist:\n",
    "        print(col_name + ' <-- collection exists')\n",
    "    else:\n",
    "        print(col_name + ' <-- collection does NOT exists')\n",
    "        \n",
    "check_for_col(test_db,col_name) # check if collection exists or not"
   ]
  },
  {
   "cell_type": "code",
   "execution_count": 6,
   "metadata": {},
   "outputs": [],
   "source": [
    "test_dict = { \"surname\": \"Adamyan\", \"address\": \"Meliq Adamyan 1\",\n",
    "             \"city\": \"Yerevan\" }\n",
    "\n",
    "pl = test_col.insert_one(test_dict)"
   ]
  },
  {
   "cell_type": "code",
   "execution_count": 7,
   "metadata": {},
   "outputs": [
    {
     "name": "stdout",
     "output_type": "stream",
     "text": [
      "66ee8aa9914f6127d87348f7\n"
     ]
    }
   ],
   "source": [
    "print(pl.inserted_id)"
   ]
  },
  {
   "cell_type": "code",
   "execution_count": 8,
   "metadata": {},
   "outputs": [
    {
     "name": "stdout",
     "output_type": "stream",
     "text": [
      "[ObjectId('66ee8aa9914f6127d87348f9'), ObjectId('66ee8aa9914f6127d87348fa'), ObjectId('66ee8aa9914f6127d87348fb'), ObjectId('66ee8aa9914f6127d87348fc')]\n"
     ]
    }
   ],
   "source": [
    "## insert many players\n",
    "db_name='players'\n",
    "col_name='coach'\n",
    "test_client = pymongo.MongoClient(\"mongodb://localhost:27017/\")\n",
    "test_db = test_client[db_name]\n",
    "test_col = test_db[col_name]\n",
    "test_list=[{ \"surname\": \"player1\", \"address\": \"Meliq Adamyan 1\",\n",
    "            \"city\": \"Yerevan1\" },\n",
    "           { \"surname\": \"player2\", \"address\": \"Meliq Adamyan 2\",\n",
    "            \"city\": \"Yerevan2\" },\n",
    "           { \"surname\": \"player3\", \"address\": \"Meliq Adamyan 3\",\n",
    "            \"city\": \"Yerevan3\" },\n",
    "           { \"surname\": \"player4\", \"address\": \"Meliq Adamyan 4\",\n",
    "            \"city\": \"Yerevan4\" }\n",
    "           ]\n",
    "pl = test_col.insert_many(test_list)\n",
    "#print list of the _id values of the inserted players:\n",
    "print(pl.inserted_ids)"
   ]
  },
  {
   "cell_type": "code",
   "execution_count": null,
   "metadata": {},
   "outputs": [],
   "source": []
  },
  {
   "cell_type": "code",
   "execution_count": null,
   "metadata": {},
   "outputs": [],
   "source": []
  }
 ],
 "metadata": {
  "kernelspec": {
   "display_name": "fast-mongo",
   "language": "python",
   "name": "python3"
  },
  "language_info": {
   "codemirror_mode": {
    "name": "ipython",
    "version": 3
   },
   "file_extension": ".py",
   "mimetype": "text/x-python",
   "name": "python",
   "nbconvert_exporter": "python",
   "pygments_lexer": "ipython3",
   "version": "3.11.9"
  }
 },
 "nbformat": 4,
 "nbformat_minor": 2
}
