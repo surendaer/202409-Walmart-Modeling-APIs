{
 "cells": [
  {
   "cell_type": "code",
   "execution_count": 1,
   "metadata": {},
   "outputs": [],
   "source": [
    "# !pip install requests"
   ]
  },
  {
   "cell_type": "code",
   "execution_count": 2,
   "metadata": {},
   "outputs": [],
   "source": [
    "import requests"
   ]
  },
  {
   "cell_type": "code",
   "execution_count": 4,
   "metadata": {},
   "outputs": [
    {
     "name": "stdout",
     "output_type": "stream",
     "text": [
      "{'items': {'0': {'name': 'Hammer', 'price': 9.99, 'count': 20, 'id': 0, 'category': 'tools'}, '1': {'name': 'Pliers', 'price': 5.99, 'count': 20, 'id': 1, 'category': 'tools'}, '2': {'name': 'Nails', 'price': 1.99, 'count': 100, 'id': 2, 'category': 'consumables'}}}\n"
     ]
    }
   ],
   "source": [
    "print(requests.get(\"http://127.0.0.1:8000/\").json())"
   ]
  },
  {
   "cell_type": "code",
   "execution_count": 5,
   "metadata": {},
   "outputs": [
    {
     "name": "stdout",
     "output_type": "stream",
     "text": [
      "{'name': 'Pliers', 'price': 5.99, 'count': 20, 'id': 1, 'category': 'tools'}\n",
      "{'query': {'name': 'Nails', 'price': None, 'count': None, 'category': None}, 'selection': [{'name': 'Nails', 'price': 1.99, 'count': 100, 'id': 2, 'category': 'consumables'}]}\n"
     ]
    }
   ],
   "source": [
    "print(requests.get(\"http://127.0.0.1:8000/items/1\").json())\n",
    "print(requests.get(\"http://127.0.0.1:8000/items?name=Nails\").json())"
   ]
  },
  {
   "cell_type": "code",
   "execution_count": 6,
   "metadata": {},
   "outputs": [
    {
     "name": "stdout",
     "output_type": "stream",
     "text": [
      "Adding an item:\n",
      "{'added': {'name': 'Screwdriver', 'price': 3.99, 'count': 10, 'id': 4, 'category': 'tools'}}\n",
      "{'items': {'0': {'name': 'Hammer', 'price': 9.99, 'count': 20, 'id': 0, 'category': 'tools'}, '1': {'name': 'Pliers', 'price': 5.99, 'count': 20, 'id': 1, 'category': 'tools'}, '2': {'name': 'Nails', 'price': 1.99, 'count': 100, 'id': 2, 'category': 'consumables'}, '4': {'name': 'Screwdriver', 'price': 3.99, 'count': 10, 'id': 4, 'category': 'tools'}}}\n",
      "\n",
      "Updating an item:\n",
      "{'updated': {'name': 'Hammer', 'price': 9.99, 'count': 9001, 'id': 0, 'category': 'tools'}}\n",
      "{'items': {'0': {'name': 'Hammer', 'price': 9.99, 'count': 9001, 'id': 0, 'category': 'tools'}, '1': {'name': 'Pliers', 'price': 5.99, 'count': 20, 'id': 1, 'category': 'tools'}, '2': {'name': 'Nails', 'price': 1.99, 'count': 100, 'id': 2, 'category': 'consumables'}, '4': {'name': 'Screwdriver', 'price': 3.99, 'count': 10, 'id': 4, 'category': 'tools'}}}\n",
      "\n",
      "Deleting an item:\n",
      "{'deleted': {'name': 'Hammer', 'price': 9.99, 'count': 9001, 'id': 0, 'category': 'tools'}}\n",
      "{'items': {'1': {'name': 'Pliers', 'price': 5.99, 'count': 20, 'id': 1, 'category': 'tools'}, '2': {'name': 'Nails', 'price': 1.99, 'count': 100, 'id': 2, 'category': 'consumables'}, '4': {'name': 'Screwdriver', 'price': 3.99, 'count': 10, 'id': 4, 'category': 'tools'}}}\n"
     ]
    }
   ],
   "source": [
    "print(\"Adding an item:\")\n",
    "print(\n",
    "    requests.post(\n",
    "        \"http://127.0.0.1:8000/\",\n",
    "        json={\"name\": \"Screwdriver\", \"price\": 3.99, \"count\": 10, \"id\": 4, \"category\": \"tools\"},\n",
    "    ).json()\n",
    ")\n",
    "print(requests.get(\"http://127.0.0.1:8000/\").json())\n",
    "print()\n",
    "\n",
    "print(\"Updating an item:\")\n",
    "print(requests.put(\"http://127.0.0.1:8000/update/0?count=9001\").json())\n",
    "print(requests.get(\"http://127.0.0.1:8000/\").json())\n",
    "print()\n",
    "\n",
    "print(\"Deleting an item:\")\n",
    "print(requests.delete(\"http://127.0.0.1:8000/delete/0\").json())\n",
    "print(requests.get(\"http://127.0.0.1:8000/\").json())"
   ]
  },
  {
   "cell_type": "code",
   "execution_count": null,
   "metadata": {},
   "outputs": [],
   "source": [
    "# These requests work:\n",
    "print(requests.get(\"http://127.0.0.1:8000/items?count=20\").json())\n",
    "print(requests.get(\"http://127.0.0.1:8000/items?category=tools\").json())\n",
    "\n",
    "\n",
    "# This request fails because 'ingredient' is not a valid category, as defined in the Category enum:\n",
    "print(requests.get(\"http://127.0.0.1:8000/items?category=ingredient\").json())\n",
    "\n",
    "\n",
    "# These request fail because count has to be an integer:\n",
    "\n",
    "# Here, validation occurs because of the specified type hints on the endpoint.\n",
    "print(requests.get(\"http://127.0.0.1:8000/items/?count=Hello\").json())\n",
    "\n",
    "# And here, because of Pydantic.\n",
    "print(\n",
    "    requests.post(\n",
    "        \"http://127.0.0.1:8000/\",\n",
    "        json={\"name\": \"Screwdriver\", \"price\": 3.99, \"count\": 'Hello', \"id\": 4},\n",
    "    ).json()\n",
    ")"
   ]
  },
  {
   "cell_type": "code",
   "execution_count": null,
   "metadata": {},
   "outputs": [],
   "source": [
    "# These requests will result in an error, since price and count are negative:\n",
    "print(requests.put(\"http://127.0.0.1:8000/update/0?count=-1\").json())\n",
    "print(requests.put(\"http://127.0.0.1:8000/update/0?price=-1\").json())\n",
    "\n",
    "# Similarly, an item_id must not be negative:\n",
    "print(requests.put(\"http://127.0.0.1:8000/update/-1\").json())\n",
    "\n",
    "# And name cannot exceed 8 characters:\n",
    "print(requests.put(\"http://127.0.0.1:8000/update/0?name=SuperDuperHammer\").json())"
   ]
  },
  {
   "cell_type": "code",
   "execution_count": null,
   "metadata": {},
   "outputs": [],
   "source": []
  },
  {
   "cell_type": "code",
   "execution_count": null,
   "metadata": {},
   "outputs": [],
   "source": []
  }
 ],
 "metadata": {
  "kernelspec": {
   "display_name": "fast-mongo",
   "language": "python",
   "name": "python3"
  },
  "language_info": {
   "codemirror_mode": {
    "name": "ipython",
    "version": 3
   },
   "file_extension": ".py",
   "mimetype": "text/x-python",
   "name": "python",
   "nbconvert_exporter": "python",
   "pygments_lexer": "ipython3",
   "version": "3.12.2"
  }
 },
 "nbformat": 4,
 "nbformat_minor": 2
}
