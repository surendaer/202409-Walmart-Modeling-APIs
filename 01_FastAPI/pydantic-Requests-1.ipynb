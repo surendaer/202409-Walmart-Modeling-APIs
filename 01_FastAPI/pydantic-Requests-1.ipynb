{
 "cells": [
  {
   "cell_type": "code",
   "execution_count": null,
   "metadata": {},
   "outputs": [],
   "source": [
    "# !pip install requests"
   ]
  },
  {
   "cell_type": "code",
   "execution_count": 1,
   "metadata": {},
   "outputs": [],
   "source": [
    "import requests"
   ]
  },
  {
   "cell_type": "code",
   "execution_count": 1,
   "metadata": {},
   "outputs": [
    {
     "ename": "NameError",
     "evalue": "name 'requests' is not defined",
     "output_type": "error",
     "traceback": [
      "\u001b[0;31m---------------------------------------------------------------------------\u001b[0m",
      "\u001b[0;31mNameError\u001b[0m                                 Traceback (most recent call last)",
      "Cell \u001b[0;32mIn[1], line 1\u001b[0m\n\u001b[0;32m----> 1\u001b[0m \u001b[38;5;28mprint\u001b[39m(\u001b[43mrequests\u001b[49m\u001b[38;5;241m.\u001b[39mget(\u001b[38;5;124m\"\u001b[39m\u001b[38;5;124mhttp://127.0.0.1:8000/\u001b[39m\u001b[38;5;124m\"\u001b[39m)\u001b[38;5;241m.\u001b[39mjson())\n",
      "\u001b[0;31mNameError\u001b[0m: name 'requests' is not defined"
     ]
    }
   ],
   "source": [
    "print(requests.get(\"http://127.0.0.1:8000/\").json())"
   ]
  },
  {
   "cell_type": "code",
   "execution_count": null,
   "metadata": {},
   "outputs": [],
   "source": [
    "print(requests.get(\"http://127.0.0.1:8000/items/1\").json())\n",
    "print(requests.get(\"http://127.0.0.1:8000/items?name=Nails\").json())"
   ]
  },
  {
   "cell_type": "code",
   "execution_count": null,
   "metadata": {},
   "outputs": [],
   "source": [
    "print(\"Adding an item:\")\n",
    "print(\n",
    "    requests.post(\n",
    "        \"http://127.0.0.1:8000/\",\n",
    "        json={\"name\": \"Screwdriver\", \"price\": 3.99, \"count\": 10, \"id\": 4, \"category\": \"tools\"},\n",
    "    ).json()\n",
    ")\n",
    "print(requests.get(\"http://127.0.0.1:8000/\").json())\n",
    "print()\n",
    "\n",
    "print(\"Updating an item:\")\n",
    "print(requests.put(\"http://127.0.0.1:8000/update/0?count=9001\").json())\n",
    "print(requests.get(\"http://127.0.0.1:8000/\").json())\n",
    "print()\n",
    "\n",
    "print(\"Deleting an item:\")\n",
    "print(requests.delete(\"http://127.0.0.1:8000/delete/0\").json())\n",
    "print(requests.get(\"http://127.0.0.1:8000/\").json())"
   ]
  },
  {
   "cell_type": "code",
   "execution_count": null,
   "metadata": {},
   "outputs": [],
   "source": [
    "# These requests work:\n",
    "print(requests.get(\"http://127.0.0.1:8000/items?count=20\").json())\n",
    "print(requests.get(\"http://127.0.0.1:8000/items?category=tools\").json())\n",
    "\n",
    "\n",
    "# This request fails because 'ingredient' is not a valid category, as defined in the Category enum:\n",
    "print(requests.get(\"http://127.0.0.1:8000/items?category=ingredient\").json())\n",
    "\n",
    "\n",
    "# These request fail because count has to be an integer:\n",
    "\n",
    "# Here, validation occurs because of the specified type hints on the endpoint.\n",
    "print(requests.get(\"http://127.0.0.1:8000/items/?count=Hello\").json())\n",
    "\n",
    "# And here, because of Pydantic.\n",
    "print(\n",
    "    requests.post(\n",
    "        \"http://127.0.0.1:8000/\",\n",
    "        json={\"name\": \"Screwdriver\", \"price\": 3.99, \"count\": 'Hello', \"id\": 4},\n",
    "    ).json()\n",
    ")"
   ]
  },
  {
   "cell_type": "code",
   "execution_count": null,
   "metadata": {},
   "outputs": [],
   "source": [
    "# These requests will result in an error, since price and count are negative:\n",
    "print(requests.put(\"http://127.0.0.1:8000/update/0?count=-1\").json())\n",
    "print(requests.put(\"http://127.0.0.1:8000/update/0?price=-1\").json())\n",
    "\n",
    "# Similarly, an item_id must not be negative:\n",
    "print(requests.put(\"http://127.0.0.1:8000/update/-1\").json())\n",
    "\n",
    "# And name cannot exceed 8 characters:\n",
    "print(requests.put(\"http://127.0.0.1:8000/update/0?name=SuperDuperHammer\").json())"
   ]
  },
  {
   "cell_type": "code",
   "execution_count": null,
   "metadata": {},
   "outputs": [],
   "source": []
  },
  {
   "cell_type": "code",
   "execution_count": null,
   "metadata": {},
   "outputs": [],
   "source": []
  }
 ],
 "metadata": {
  "kernelspec": {
   "display_name": "fast-mongo",
   "language": "python",
   "name": "python3"
  },
  "language_info": {
   "codemirror_mode": {
    "name": "ipython",
    "version": 3
   },
   "file_extension": ".py",
   "mimetype": "text/x-python",
   "name": "python",
   "nbconvert_exporter": "python",
   "pygments_lexer": "ipython3",
   "version": "3.11.9"
  }
 },
 "nbformat": 4,
 "nbformat_minor": 2
}
