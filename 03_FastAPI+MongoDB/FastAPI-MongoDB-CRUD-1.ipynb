{
 "cells": [
  {
   "cell_type": "markdown",
   "metadata": {},
   "source": [
    "# FastAPI and MongoDB"
   ]
  },
  {
   "cell_type": "code",
   "execution_count": 1,
   "metadata": {},
   "outputs": [
    {
     "name": "stdout",
     "output_type": "stream",
     "text": [
      "Requirement already satisfied: fastapi in /opt/miniconda3/envs/fast-mongo/lib/python3.11/site-packages (0.115.0)\n",
      "Requirement already satisfied: starlette<0.39.0,>=0.37.2 in /opt/miniconda3/envs/fast-mongo/lib/python3.11/site-packages (from fastapi) (0.38.5)\n",
      "Requirement already satisfied: pydantic!=1.8,!=1.8.1,!=2.0.0,!=2.0.1,!=2.1.0,<3.0.0,>=1.7.4 in /opt/miniconda3/envs/fast-mongo/lib/python3.11/site-packages (from fastapi) (2.9.2)\n",
      "Requirement already satisfied: typing-extensions>=4.8.0 in /opt/miniconda3/envs/fast-mongo/lib/python3.11/site-packages (from fastapi) (4.12.2)\n",
      "Requirement already satisfied: annotated-types>=0.6.0 in /opt/miniconda3/envs/fast-mongo/lib/python3.11/site-packages (from pydantic!=1.8,!=1.8.1,!=2.0.0,!=2.0.1,!=2.1.0,<3.0.0,>=1.7.4->fastapi) (0.7.0)\n",
      "Requirement already satisfied: pydantic-core==2.23.4 in /opt/miniconda3/envs/fast-mongo/lib/python3.11/site-packages (from pydantic!=1.8,!=1.8.1,!=2.0.0,!=2.0.1,!=2.1.0,<3.0.0,>=1.7.4->fastapi) (2.23.4)\n",
      "Requirement already satisfied: anyio<5,>=3.4.0 in /opt/miniconda3/envs/fast-mongo/lib/python3.11/site-packages (from starlette<0.39.0,>=0.37.2->fastapi) (4.4.0)\n",
      "Requirement already satisfied: idna>=2.8 in /opt/miniconda3/envs/fast-mongo/lib/python3.11/site-packages (from anyio<5,>=3.4.0->starlette<0.39.0,>=0.37.2->fastapi) (3.10)\n",
      "Requirement already satisfied: sniffio>=1.1 in /opt/miniconda3/envs/fast-mongo/lib/python3.11/site-packages (from anyio<5,>=3.4.0->starlette<0.39.0,>=0.37.2->fastapi) (1.3.1)\n",
      "Requirement already satisfied: uvicorn in /opt/miniconda3/envs/fast-mongo/lib/python3.11/site-packages (0.30.6)\n",
      "Requirement already satisfied: click>=7.0 in /opt/miniconda3/envs/fast-mongo/lib/python3.11/site-packages (from uvicorn) (8.1.7)\n",
      "Requirement already satisfied: h11>=0.8 in /opt/miniconda3/envs/fast-mongo/lib/python3.11/site-packages (from uvicorn) (0.14.0)\n",
      "Requirement already satisfied: motor in /opt/miniconda3/envs/fast-mongo/lib/python3.11/site-packages (3.6.0)\n",
      "Requirement already satisfied: pymongo<4.10,>=4.9 in /opt/miniconda3/envs/fast-mongo/lib/python3.11/site-packages (from motor) (4.9.1)\n",
      "Requirement already satisfied: dnspython<3.0.0,>=1.16.0 in /opt/miniconda3/envs/fast-mongo/lib/python3.11/site-packages (from pymongo<4.10,>=4.9->motor) (2.6.1)\n"
     ]
    }
   ],
   "source": [
    "!pip install fastapi\n",
    "!pip install uvicorn\n",
    "!pip install motor"
   ]
  },
  {
   "cell_type": "markdown",
   "metadata": {},
   "source": [
    "## Let's make a setup"
   ]
  },
  {
   "cell_type": "code",
   "execution_count": 10,
   "metadata": {},
   "outputs": [],
   "source": [
    "# Importing libraries\n",
    "from fastapi import FastAPI, HTTPException          # FastAPI utilities\n",
    "from motor.motor_asyncio import AsyncIOMotorClient  # Asynchronous motor client\n",
    "from pydantic import BaseModel                      # pydantic for data validation \n",
    "from bson import ObjectId                           # bson is Binary JSON, used for some JSON management\n",
    "from typing import List                             # \n",
    "\n",
    "# Setting up a FastAPI instance\n",
    "app = FastAPI()\n",
    "# MongoDB connection\n",
    "client = AsyncIOMotorClient('mongodb://localhost:27017')\n",
    "db = client.fastapi_db\n",
    "\n",
    "# Use the collection \n",
    "collection = db.users"
   ]
  },
  {
   "cell_type": "code",
   "execution_count": 3,
   "metadata": {},
   "outputs": [],
   "source": [
    "# Let's define a pydantic model\n",
    "class User(BaseModel):\n",
    "    name: str\n",
    "    email: str\n",
    "\n",
    "class UserInDB(User):\n",
    "    id: str"
   ]
  },
  {
   "cell_type": "code",
   "execution_count": 4,
   "metadata": {},
   "outputs": [],
   "source": [
    "# A convertor for BSON to JSON\n",
    "def user_helper(user) -> dict:\n",
    "    return {\n",
    "        \"id\": str(user[\"_id\"]),\n",
    "        \"name\": user[\"name\"],\n",
    "        \"email\": user[\"email\"]\n",
    "    }"
   ]
  },
  {
   "cell_type": "markdown",
   "metadata": {},
   "source": [
    "Create User"
   ]
  },
  {
   "cell_type": "code",
   "execution_count": 5,
   "metadata": {},
   "outputs": [],
   "source": [
    "@app.post(\"/users/\", response_model=UserInDB)\n",
    "async def create_user(user: User):\n",
    "    user_dict = user.dict()\n",
    "    new_user = await collection.insert_one(user_dict)\n",
    "    created_user = await collection.find_one({\"_id\": new_user.inserted_id})\n",
    "    return user_helper(created_user)"
   ]
  },
  {
   "cell_type": "markdown",
   "metadata": {},
   "source": [
    "Read Users"
   ]
  },
  {
   "cell_type": "code",
   "execution_count": 6,
   "metadata": {},
   "outputs": [],
   "source": [
    "@app.get(\"/users/\", response_model=List[UserInDB])\n",
    "async def get_users():\n",
    "    users = []\n",
    "    async for user in collection.find():\n",
    "        users.append(user_helper(user))\n",
    "    return users"
   ]
  },
  {
   "cell_type": "markdown",
   "metadata": {},
   "source": [
    "Read single user"
   ]
  },
  {
   "cell_type": "code",
   "execution_count": 7,
   "metadata": {},
   "outputs": [],
   "source": [
    "@app.get(\"/users/{user_id}\", response_model=UserInDB)\n",
    "async def get_user(user_id: str):\n",
    "    user = await collection.find_one({\"_id\": ObjectId(user_id)})\n",
    "    if user is None:\n",
    "        raise HTTPException(status_code=404, detail=\"User not found\")\n",
    "    return user_helper(user)"
   ]
  },
  {
   "cell_type": "markdown",
   "metadata": {},
   "source": [
    "Update User"
   ]
  },
  {
   "cell_type": "code",
   "execution_count": 8,
   "metadata": {},
   "outputs": [],
   "source": [
    "@app.put(\"/users/{user_id}\", response_model=UserInDB)\n",
    "async def update_user(user_id: str, user: User):\n",
    "    await collection.update_one({\"_id\": ObjectId(user_id)}, {\"$set\": user.dict()})\n",
    "    updated_user = await collection.find_one({\"_id\": ObjectId(user_id)})\n",
    "    if updated_user is None:\n",
    "        raise HTTPException(status_code=404, detail=\"User not found\")\n",
    "    return user_helper(updated_user)"
   ]
  },
  {
   "cell_type": "markdown",
   "metadata": {},
   "source": [
    "Delete User"
   ]
  },
  {
   "cell_type": "code",
   "execution_count": 9,
   "metadata": {},
   "outputs": [],
   "source": [
    "@app.delete(\"/users/{user_id}\")\n",
    "async def delete_user(user_id: str):\n",
    "    delete_result = await collection.delete_one({\"_id\": ObjectId(user_id)})\n",
    "    if delete_result.deleted_count == 1:\n",
    "        return {\"message\": \"User deleted\"}\n",
    "    raise HTTPException(status_code=404, detail=\"User not found\")"
   ]
  },
  {
   "cell_type": "code",
   "execution_count": null,
   "metadata": {},
   "outputs": [],
   "source": []
  }
 ],
 "metadata": {
  "kernelspec": {
   "display_name": "fast-mongo",
   "language": "python",
   "name": "python3"
  },
  "language_info": {
   "codemirror_mode": {
    "name": "ipython",
    "version": 3
   },
   "file_extension": ".py",
   "mimetype": "text/x-python",
   "name": "python",
   "nbconvert_exporter": "python",
   "pygments_lexer": "ipython3",
   "version": "3.11.9"
  }
 },
 "nbformat": 4,
 "nbformat_minor": 2
}
